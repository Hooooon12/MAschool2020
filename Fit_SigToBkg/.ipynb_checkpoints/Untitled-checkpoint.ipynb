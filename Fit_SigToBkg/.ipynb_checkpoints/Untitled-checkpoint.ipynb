{
 "cells": [
  {
   "cell_type": "code",
   "execution_count": 85,
   "metadata": {},
   "outputs": [],
   "source": [
    "from sympy import *\n",
    "import numpy as np\n",
    "import matplotlib.pyplot as plt"
   ]
  },
  {
   "cell_type": "code",
   "execution_count": 86,
   "metadata": {},
   "outputs": [],
   "source": [
    "x, a, b, c, d = symbols(\"x a b c d\")"
   ]
  },
  {
   "cell_type": "code",
   "execution_count": 87,
   "metadata": {},
   "outputs": [],
   "source": [
    "expr1 = a / (exp(b / (x+c))-1)\n",
    "expr2 = 1 / (x+c)**(5 + d*ln((x+c)/13000))"
   ]
  },
  {
   "cell_type": "code",
   "execution_count": 88,
   "metadata": {},
   "outputs": [
    {
     "data": {
      "text/latex": [
       "$\\displaystyle \\left(c + x\\right)^{- d \\log{\\left(\\frac{c}{13000} + \\frac{x}{13000} \\right)} - 5}$"
      ],
      "text/plain": [
       "(c + x)**(-d*log(c/13000 + x/13000) - 5)"
      ]
     },
     "execution_count": 88,
     "metadata": {},
     "output_type": "execute_result"
    }
   ],
   "source": [
    "#expr1.simplify()\n",
    "expr2.simplify()"
   ]
  },
  {
   "cell_type": "code",
   "execution_count": 93,
   "metadata": {},
   "outputs": [],
   "source": [
    "expr1_1 = expr1.subs(a, 10)\n",
    "expr1_2 = expr1_1.subs(b, 0.002)\n",
    "expr1_3 = expr1_2.subs(c, 0)\n",
    "\n",
    "expr2_1 = expr2.subs(c, 0)\n",
    "expr2_2 = expr2_1.subs(d, 0)"
   ]
  },
  {
   "cell_type": "code",
   "execution_count": 94,
   "metadata": {},
   "outputs": [
    {
     "data": {
      "text/latex": [
       "$\\displaystyle \\frac{1}{x^{5}}$"
      ],
      "text/plain": [
       "x**(-5)"
      ]
     },
     "execution_count": 94,
     "metadata": {},
     "output_type": "execute_result"
    }
   ],
   "source": [
    "expr1_3.simplify()\n",
    "expr2_2.simplify()"
   ]
  },
  {
   "cell_type": "code",
   "execution_count": 96,
   "metadata": {},
   "outputs": [
    {
     "data": {
      "image/png": "[encoded data removed]",
      "text/plain": [
       "<Figure size 432x288 with 1 Axes>"
      ]
     },
     "metadata": {
      "needs_background": "light"
     },
     "output_type": "display_data"
    }
   ],
   "source": [
    "expr = expr1_3 * expr2_2\n",
    "expr.simplify()\n",
    "X = np.arange(1, 20, 100)\n",
    "Y = []\n",
    "Z = []\n",
    "W = []\n",
    "for i in range(X.size):\n",
    "    Y.append(expr1_3.subs(x, X[i]).evalf())\n",
    "    Z.append(expr2_2.subs(x, X[i]).evalf())\n",
    "    W.append(expr.subs(x, X[i]).evalf())\n",
    "Y = np.array(Y)\n",
    "Z = np.array(Z)\n",
    "W = np.array(W)\n",
    "plt.plot(X, Y)\n",
    "plt.plot(X, Z)\n",
    "plt.plot(X, W)\n",
    "plt.show()"
   ]
  },
  {
   "cell_type": "code",
   "execution_count": 92,
   "metadata": {},
   "outputs": [
    {
     "data": {
      "text/latex": [
       "$\\displaystyle \\frac{10}{x^{5} \\left(e^{\\frac{2.0 \\cdot 10^{-6}}{x}} - 1\\right)}$"
      ],
      "text/plain": [
       "10/(x**5*(exp(2.0e-6/x) - 1))"
      ]
     },
     "execution_count": 92,
     "metadata": {},
     "output_type": "execute_result"
    }
   ],
   "source": [
    "expr.simplify()"
   ]
  },
  {
   "cell_type": "code",
   "execution_count": null,
   "metadata": {},
   "outputs": [],
   "source": []
  },
  {
   "cell_type": "code",
   "execution_count": null,
   "metadata": {},
   "outputs": [],
   "source": []
  }
 ],
 "metadata": {
  "kernelspec": {
   "display_name": "Python 3",
   "language": "python",
   "name": "python3"
  },
  "language_info": {
   "codemirror_mode": {
    "name": "ipython",
    "version": 3
   },
   "file_extension": ".py",
   "mimetype": "text/x-python",
   "name": "python",
   "nbconvert_exporter": "python",
   "pygments_lexer": "ipython3",
   "version": "3.7.6"
  }
 },
 "nbformat": 4,
 "nbformat_minor": 4
}
